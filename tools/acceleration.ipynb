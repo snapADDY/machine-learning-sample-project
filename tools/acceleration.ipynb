{
 "cells": [
  {
   "cell_type": "markdown",
   "id": "2618a26b-956f-4cf2-894a-90bab1f666c6",
   "metadata": {},
   "source": [
    "# 🏃 Inference Acceleration on CPUs\n",
    "\n",
    "- Deep neural networks are usually quite slow – at least compared to other classic machine learning models\n",
    "- We try to accelerate the inference on CPUs for XLM-RoBERTa with tricks like quantization\n"
   ]
  },
  {
   "cell_type": "markdown",
   "id": "05e775de-915a-4b0e-9ba0-90cbdb18901c",
   "metadata": {},
   "source": [
    "## Model\n",
    "\n",
    "The model is a fine-tuned version of [xlm-roberta-base](https://huggingface.co/xlm-roberta-base) on the [Language Identification](https://huggingface.co/datasets/papluca/language-identification#additional-information) dataset:\n"
   ]
  },
  {
   "cell_type": "code",
   "execution_count": 1,
   "id": "d7d2467b-86a2-4c81-bf9b-e696455d1b47",
   "metadata": {},
   "outputs": [],
   "source": [
    "model_name = \"papluca/xlm-roberta-base-language-detection\""
   ]
  },
  {
   "cell_type": "markdown",
   "id": "bb9fe9b8-cc03-484e-9e0c-960a6b79aa27",
   "metadata": {},
   "source": [
    "German text (with some English words as well) as example input:\n"
   ]
  },
  {
   "cell_type": "code",
   "execution_count": 2,
   "id": "06fc0d5c-90f9-4d4f-81a2-63533d30abe2",
   "metadata": {},
   "outputs": [],
   "source": [
    "text = \"Rubber Soul ist das sechste Studioalbum der britischen Gruppe The Beatles.\""
   ]
  },
  {
   "cell_type": "markdown",
   "id": "18f9e59f-2e01-42c5-9bd5-1dc18861533e",
   "metadata": {},
   "source": [
    "## Baseline: Simple Pipeline\n",
    "\n",
    "The most high-level thing to do is probably `transformers.pipeline()`.\n"
   ]
  },
  {
   "cell_type": "code",
   "execution_count": 3,
   "id": "7dbb3577-64da-4487-a793-fc35f76a4fc2",
   "metadata": {},
   "outputs": [],
   "source": [
    "import transformers"
   ]
  },
  {
   "cell_type": "code",
   "execution_count": 4,
   "id": "1b73f158-6a05-4a48-9146-66001889f307",
   "metadata": {},
   "outputs": [
    {
     "data": {
      "text/plain": [
       "'de'"
      ]
     },
     "execution_count": 4,
     "metadata": {},
     "output_type": "execute_result"
    }
   ],
   "source": [
    "pipeline = transformers.pipeline(\"text-classification\", model=model_name, tokenizer=model_name)\n",
    "\n",
    "\n",
    "def simple_pipeline(text: str) -> str:\n",
    "    # fire!\n",
    "    prediction = pipeline(text)\n",
    "\n",
    "    # return only the label as string\n",
    "    return prediction[0][\"label\"]\n",
    "\n",
    "\n",
    "simple_pipeline(text)"
   ]
  },
  {
   "cell_type": "markdown",
   "id": "9f12602c-4f8b-4be3-84c9-f463971d5168",
   "metadata": {},
   "source": [
    "### Profiling\n",
    "\n",
    "To evaluate inference time (in milliseconds), we classify the same input 1,000 times and calculate the mean, median and standard deviation.\n"
   ]
  },
  {
   "cell_type": "code",
   "execution_count": 5,
   "id": "77a4c79d-3e73-44c5-9702-5f1f37cb364f",
   "metadata": {},
   "outputs": [],
   "source": [
    "from utils import Timer"
   ]
  },
  {
   "cell_type": "code",
   "execution_count": 6,
   "id": "405928b8-d779-49e8-b286-5e62e56baea5",
   "metadata": {},
   "outputs": [],
   "source": [
    "num_loops = 1_000"
   ]
  },
  {
   "cell_type": "code",
   "execution_count": 7,
   "id": "918bdc38-f19d-4180-8ffe-54d0bc662e68",
   "metadata": {},
   "outputs": [],
   "source": [
    "timer = Timer(num_loops=num_loops)"
   ]
  },
  {
   "cell_type": "code",
   "execution_count": 8,
   "id": "650ce8be-bc3d-4a23-adab-868164dc7093",
   "metadata": {},
   "outputs": [
    {
     "name": "stdout",
     "output_type": "stream",
     "text": [
      "simple_pipeline: {'mean': 44.70298743247986, 'median': 44.76284980773926, 'stdev': 1.9920702926544707}\n"
     ]
    }
   ],
   "source": [
    "timer.evaluate(simple_pipeline, text)"
   ]
  },
  {
   "cell_type": "markdown",
   "id": "5494ce2b-7cf6-4963-8f89-d6cf51f4643f",
   "metadata": {},
   "source": [
    "## Approach 1: DIY Preprocessing, Inference, Postprocessing\n",
    "\n",
    "Going one step more low-level, we preprocess the input text ourselves, process it thorugh the model and translate the prediction into the most likely label.\n"
   ]
  },
  {
   "cell_type": "code",
   "execution_count": 9,
   "id": "da7a17b5-23eb-4799-9b4e-39d4e13167ca",
   "metadata": {},
   "outputs": [],
   "source": [
    "from torch import Tensor\n",
    "from transformers import AutoConfig, AutoModelForSequenceClassification, AutoTokenizer"
   ]
  },
  {
   "cell_type": "code",
   "execution_count": 10,
   "id": "3615a621-a2e4-4481-9be6-4acdae862862",
   "metadata": {},
   "outputs": [],
   "source": [
    "tokenizer = AutoTokenizer.from_pretrained(model_name)\n",
    "model = AutoModelForSequenceClassification.from_pretrained(model_name)\n",
    "config = AutoConfig.from_pretrained(model_name)"
   ]
  },
  {
   "cell_type": "code",
   "execution_count": 11,
   "id": "1d3f4d70-2879-45e7-b4e1-741bc25e3aee",
   "metadata": {},
   "outputs": [],
   "source": [
    "def preprocess(text: str) -> Tensor:\n",
    "    return tokenizer(text, return_tensors=\"pt\")[\"input_ids\"]\n",
    "\n",
    "\n",
    "def inference(input_ids: Tensor) -> Tensor:\n",
    "    return model.forward(input_ids).logits\n",
    "\n",
    "\n",
    "def postprocess(logits: Tensor) -> str:\n",
    "    return config.id2label[logits.argmax().item()]"
   ]
  },
  {
   "cell_type": "markdown",
   "id": "26b4ab05-8d3f-4e1b-9f99-578aae15581f",
   "metadata": {},
   "source": [
    "### Tokenize Text\n"
   ]
  },
  {
   "cell_type": "code",
   "execution_count": 12,
   "id": "d5e6d8ad-a329-48b3-bc15-8bdf607528b7",
   "metadata": {},
   "outputs": [
    {
     "data": {
      "text/plain": [
       "tensor([[     0,  65787,   1297,  99837,    443,    381,  87659,     67,  22968,\n",
       "          54981,    122, 216357,     19,  54493,    581, 130904,      5,      2]])"
      ]
     },
     "execution_count": 12,
     "metadata": {},
     "output_type": "execute_result"
    }
   ],
   "source": [
    "inputs = preprocess(text)\n",
    "inputs"
   ]
  },
  {
   "cell_type": "markdown",
   "id": "41cf29fb-821b-47b6-9172-62725d8dd9a7",
   "metadata": {},
   "source": [
    "### Process Through the Model\n"
   ]
  },
  {
   "cell_type": "code",
   "execution_count": 13,
   "id": "7ac7a10e-42a6-4b47-8d8e-0f0e9eccd100",
   "metadata": {},
   "outputs": [
    {
     "data": {
      "text/plain": [
       "tensor([[-1.7941, -0.0125, -1.0825,  0.3778,  7.8346,  0.6406, -0.3162, -0.6920,\n",
       "         -0.0727,  0.0403, -1.2121,  0.1262,  0.2210, -0.7516, -0.8402, -0.7351,\n",
       "         -0.2303, -0.7274, -0.1624, -0.6116]], grad_fn=<AddmmBackward0>)"
      ]
     },
     "execution_count": 13,
     "metadata": {},
     "output_type": "execute_result"
    }
   ],
   "source": [
    "outputs = inference(inputs)\n",
    "outputs"
   ]
  },
  {
   "cell_type": "markdown",
   "id": "136e0089-9837-4b4b-90bc-de6e4ee137da",
   "metadata": {},
   "source": [
    "### Select the Most Likely Label\n"
   ]
  },
  {
   "cell_type": "code",
   "execution_count": 14,
   "id": "c4137423-3c5b-46a3-a1e8-018f625761c9",
   "metadata": {},
   "outputs": [
    {
     "data": {
      "text/plain": [
       "'de'"
      ]
     },
     "execution_count": 14,
     "metadata": {},
     "output_type": "execute_result"
    }
   ],
   "source": [
    "prediction = postprocess(outputs)\n",
    "prediction"
   ]
  },
  {
   "cell_type": "markdown",
   "id": "3aeb05c5-76c7-4124-a96b-b2840e1eb4c9",
   "metadata": {},
   "source": [
    "### Wrapping Everything in a Function\n"
   ]
  },
  {
   "cell_type": "code",
   "execution_count": 15,
   "id": "7356b631-abe6-4da0-8b73-8d643c85d29e",
   "metadata": {},
   "outputs": [],
   "source": [
    "def preprocess_inference_postprocess(text: str):\n",
    "    # tokenize text\n",
    "    input_ids = preprocess(text)\n",
    "\n",
    "    # fire!\n",
    "    logits = inference(input_ids)\n",
    "\n",
    "    # most likely label\n",
    "    return postprocess(logits)"
   ]
  },
  {
   "cell_type": "code",
   "execution_count": 16,
   "id": "d39f24d1-76eb-43a9-8697-97f113cd1921",
   "metadata": {},
   "outputs": [
    {
     "data": {
      "text/plain": [
       "'de'"
      ]
     },
     "execution_count": 16,
     "metadata": {},
     "output_type": "execute_result"
    }
   ],
   "source": [
    "preprocess_inference_postprocess(text)"
   ]
  },
  {
   "cell_type": "code",
   "execution_count": 17,
   "id": "ae870a17-d061-4dc2-8560-095b54001438",
   "metadata": {},
   "outputs": [
    {
     "name": "stdout",
     "output_type": "stream",
     "text": [
      "preprocess_inference_postprocess: {'mean': 46.65945553779602, 'median': 46.16427421569824, 'stdev': 2.562030245870282}\n"
     ]
    }
   ],
   "source": [
    "timer.evaluate(preprocess_inference_postprocess, text)"
   ]
  },
  {
   "cell_type": "code",
   "execution_count": 18,
   "id": "59cf1dcb-1616-46ef-a6aa-016120170a1e",
   "metadata": {},
   "outputs": [
    {
     "data": {
      "text/html": [
       "<div>\n",
       "<style scoped>\n",
       "    .dataframe tbody tr th:only-of-type {\n",
       "        vertical-align: middle;\n",
       "    }\n",
       "\n",
       "    .dataframe tbody tr th {\n",
       "        vertical-align: top;\n",
       "    }\n",
       "\n",
       "    .dataframe thead th {\n",
       "        text-align: right;\n",
       "    }\n",
       "</style>\n",
       "<table border=\"1\" class=\"dataframe\">\n",
       "  <thead>\n",
       "    <tr style=\"text-align: right;\">\n",
       "      <th></th>\n",
       "      <th>mean</th>\n",
       "      <th>median</th>\n",
       "      <th>stdev</th>\n",
       "    </tr>\n",
       "  </thead>\n",
       "  <tbody>\n",
       "    <tr>\n",
       "      <th>simple_pipeline</th>\n",
       "      <td>44.702987</td>\n",
       "      <td>44.762850</td>\n",
       "      <td>1.99207</td>\n",
       "    </tr>\n",
       "    <tr>\n",
       "      <th>preprocess_inference_postprocess</th>\n",
       "      <td>46.659456</td>\n",
       "      <td>46.164274</td>\n",
       "      <td>2.56203</td>\n",
       "    </tr>\n",
       "  </tbody>\n",
       "</table>\n",
       "</div>"
      ],
      "text/plain": [
       "                                       mean     median    stdev\n",
       "simple_pipeline                   44.702987  44.762850  1.99207\n",
       "preprocess_inference_postprocess  46.659456  46.164274  2.56203"
      ]
     },
     "execution_count": 18,
     "metadata": {},
     "output_type": "execute_result"
    }
   ],
   "source": [
    "timer.summary()"
   ]
  },
  {
   "cell_type": "markdown",
   "id": "c0ffa8b0-806f-4cb2-9092-cbdbda39b627",
   "metadata": {},
   "source": [
    "### Bottlenecks\n",
    "\n",
    "To find out where the performance bottlenecks are (i.e. find out _what_ to optimize), we profile all of the three steps separately.\n"
   ]
  },
  {
   "cell_type": "code",
   "execution_count": 19,
   "id": "9714fa5e-51e6-4470-996e-9fec8393f02b",
   "metadata": {},
   "outputs": [
    {
     "name": "stdout",
     "output_type": "stream",
     "text": [
      "preprocess: {'mean': 0.0964055061340332, 'median': 0.09036064147949219, 'stdev': 0.021001382892959317}\n",
      "inference: {'mean': 48.63945651054382, 'median': 46.106576919555664, 'stdev': 7.403134646609489}\n",
      "postprocess: {'mean': 0.005352020263671875, 'median': 0.0050067901611328125, 'stdev': 0.005945669873304289}\n"
     ]
    },
    {
     "data": {
      "image/png": "[encoded data removed]",
      "text/plain": [
       "<Figure size 640x480 with 1 Axes>"
      ]
     },
     "metadata": {},
     "output_type": "display_data"
    }
   ],
   "source": [
    "bottlenecks = Timer(num_loops=num_loops)\n",
    "\n",
    "bottlenecks.evaluate(preprocess, text)\n",
    "bottlenecks.evaluate(inference, inputs)\n",
    "bottlenecks.evaluate(postprocess, outputs)\n",
    "\n",
    "bottlenecks.plot()"
   ]
  },
  {
   "cell_type": "markdown",
   "id": "20026d50-efbe-4acf-86b0-b79b91de6f6a",
   "metadata": {},
   "source": [
    "# Approach 2: Simple Pipeline with ONNX model\n",
    "\n",
    "From the [Optimum documentation](https://huggingface.co/docs/optimum/onnxruntime/concept_guides/onnx):\n",
    "\n",
    "> ONNX is an open standard that defines a common set of operators and a common file format to represent deep learning models in a wide variety of frameworks, including PyTorch and TensorFlow. When a model is exported to the ONNX format, these operators are used to construct a computational graph (often called an intermediate representation) that represents the flow of data through the neural network.\n",
    ">\n",
    "> By exposing a graph with standardized operators and data types, **ONNX makes it easy to switch between frameworks**. For example, a model trained in PyTorch can be exported to ONNX format and then imported in TensorFlow (and vice versa).\n",
    ">\n",
    "> Where ONNX really shines is when it is coupled with a dedicated accelerator like ONNX Runtime, or ORT for short. **ORT provides tools to optimize the ONNX graph** through techniques like operator fusion and constant folding, and defines an interface to execution providers that allow you to run the model on different types of hardware.\n"
   ]
  },
  {
   "cell_type": "markdown",
   "id": "b18c1323-db7f-4f6e-8967-fb02bbf47d31",
   "metadata": {},
   "source": [
    "We still use the `transformers.pipeline()` – but with an ONNX model.\n"
   ]
  },
  {
   "cell_type": "code",
   "execution_count": 20,
   "id": "0b33b2fc-0d21-4851-930e-d972a6d44dba",
   "metadata": {},
   "outputs": [],
   "source": [
    "from optimum.onnxruntime import ORTModelForSequenceClassification"
   ]
  },
  {
   "cell_type": "code",
   "execution_count": 21,
   "id": "67a6d7ee-33ee-4813-b96e-516c2ca14dd8",
   "metadata": {},
   "outputs": [
    {
     "name": "stderr",
     "output_type": "stream",
     "text": [
      "Framework not specified. Using pt to export the model.\n",
      "Using the export variant default. Available variants are:\n",
      "    - default: The default ONNX variant.\n",
      "\n",
      "***** Exporting submodel 1/1: XLMRobertaForSequenceClassification *****\n",
      "Using framework PyTorch: 2.4.1+cu121\n",
      "Overriding 1 configuration item(s)\n",
      "\t- use_cache -> False\n"
     ]
    }
   ],
   "source": [
    "onnx_model = ORTModelForSequenceClassification.from_pretrained(model_name, export=True)"
   ]
  },
  {
   "cell_type": "code",
   "execution_count": 22,
   "id": "5018c981-1ad7-4fb0-8f37-2b85293490fd",
   "metadata": {},
   "outputs": [
    {
     "data": {
      "text/plain": [
       "'de'"
      ]
     },
     "execution_count": 22,
     "metadata": {},
     "output_type": "execute_result"
    }
   ],
   "source": [
    "pipeline = transformers.pipeline(\"text-classification\", model=onnx_model, tokenizer=tokenizer)\n",
    "\n",
    "\n",
    "def onnx_pipeline(text: str) -> str:\n",
    "    # fire!\n",
    "    prediction = pipeline(text)\n",
    "\n",
    "    # return only the label as string\n",
    "    return prediction[0][\"label\"]\n",
    "\n",
    "\n",
    "onnx_pipeline(text)"
   ]
  },
  {
   "cell_type": "code",
   "execution_count": 23,
   "id": "06a9a0d9-8e8f-45d5-9665-75bd96864f00",
   "metadata": {},
   "outputs": [
    {
     "name": "stdout",
     "output_type": "stream",
     "text": [
      "onnx_pipeline: {'mean': 22.047638654708862, 'median': 22.12369441986084, 'stdev': 1.5162716948974961}\n"
     ]
    }
   ],
   "source": [
    "timer.evaluate(onnx_pipeline, text)"
   ]
  },
  {
   "cell_type": "code",
   "execution_count": 24,
   "id": "af0a9abb-a557-4074-a78f-8f1f49999652",
   "metadata": {},
   "outputs": [
    {
     "data": {
      "image/png": "[encoded data removed]",
      "text/plain": [
       "<Figure size 640x480 with 1 Axes>"
      ]
     },
     "metadata": {},
     "output_type": "display_data"
    }
   ],
   "source": [
    "timer.plot()"
   ]
  },
  {
   "cell_type": "code",
   "execution_count": 25,
   "id": "2c9246c1-6368-4d66-88aa-05ec460b7289",
   "metadata": {},
   "outputs": [
    {
     "data": {
      "text/html": [
       "<div>\n",
       "<style scoped>\n",
       "    .dataframe tbody tr th:only-of-type {\n",
       "        vertical-align: middle;\n",
       "    }\n",
       "\n",
       "    .dataframe tbody tr th {\n",
       "        vertical-align: top;\n",
       "    }\n",
       "\n",
       "    .dataframe thead th {\n",
       "        text-align: right;\n",
       "    }\n",
       "</style>\n",
       "<table border=\"1\" class=\"dataframe\">\n",
       "  <thead>\n",
       "    <tr style=\"text-align: right;\">\n",
       "      <th></th>\n",
       "      <th>mean</th>\n",
       "      <th>median</th>\n",
       "      <th>stdev</th>\n",
       "    </tr>\n",
       "  </thead>\n",
       "  <tbody>\n",
       "    <tr>\n",
       "      <th>onnx_pipeline</th>\n",
       "      <td>22.047639</td>\n",
       "      <td>22.123694</td>\n",
       "      <td>1.516272</td>\n",
       "    </tr>\n",
       "    <tr>\n",
       "      <th>simple_pipeline</th>\n",
       "      <td>44.702987</td>\n",
       "      <td>44.762850</td>\n",
       "      <td>1.992070</td>\n",
       "    </tr>\n",
       "    <tr>\n",
       "      <th>preprocess_inference_postprocess</th>\n",
       "      <td>46.659456</td>\n",
       "      <td>46.164274</td>\n",
       "      <td>2.562030</td>\n",
       "    </tr>\n",
       "  </tbody>\n",
       "</table>\n",
       "</div>"
      ],
      "text/plain": [
       "                                       mean     median     stdev\n",
       "onnx_pipeline                     22.047639  22.123694  1.516272\n",
       "simple_pipeline                   44.702987  44.762850  1.992070\n",
       "preprocess_inference_postprocess  46.659456  46.164274  2.562030"
      ]
     },
     "execution_count": 25,
     "metadata": {},
     "output_type": "execute_result"
    }
   ],
   "source": [
    "timer.summary()"
   ]
  },
  {
   "cell_type": "markdown",
   "id": "2595fb49-dbaf-4472-8fe9-482019ce6c34",
   "metadata": {},
   "source": [
    "## Approach 3: Inference Session with ONNX Runtime\n",
    "\n",
    "Now we get rid of `transformers.pipeline()` and use the `onnxruntime` package (which is only ~13 MB!). Before ONNX, we used the PyTorch model – and PyTorch is ~900 MB.\n"
   ]
  },
  {
   "cell_type": "markdown",
   "id": "04d71b2b-6d80-4c42-84e7-682d7e1fa2ac",
   "metadata": {},
   "source": [
    "We have to serialize the model to disk and load it as `InferenceSession`:\n"
   ]
  },
  {
   "cell_type": "code",
   "execution_count": 26,
   "id": "7afbe66e-9ec1-49d2-ac85-a42d5bf9e002",
   "metadata": {},
   "outputs": [],
   "source": [
    "onnx_model.save_pretrained(\"onnx\")"
   ]
  },
  {
   "cell_type": "code",
   "execution_count": 27,
   "id": "95a45c1c-1d1e-4c8f-a180-bcc624580c21",
   "metadata": {},
   "outputs": [],
   "source": [
    "from onnxruntime import InferenceSession"
   ]
  },
  {
   "cell_type": "code",
   "execution_count": 28,
   "id": "37c3baf9-cd59-4f84-98b5-e84b36d96684",
   "metadata": {},
   "outputs": [],
   "source": [
    "session = InferenceSession(\"onnx/model.onnx\")"
   ]
  },
  {
   "cell_type": "code",
   "execution_count": 29,
   "id": "f7dcb55e-17c0-412f-8297-4a06367dec8c",
   "metadata": {},
   "outputs": [],
   "source": [
    "import numpy as np"
   ]
  },
  {
   "cell_type": "code",
   "execution_count": 30,
   "id": "669a89d0-dd36-4cd4-8956-89d39d21a44a",
   "metadata": {},
   "outputs": [],
   "source": [
    "def preprocess(text: str) -> dict[str, np.ndarray]:\n",
    "    inputs = tokenizer(text)\n",
    "    return {\n",
    "        \"input_ids\": np.array([inputs[\"input_ids\"]]),\n",
    "        \"attention_mask\": np.array([inputs[\"attention_mask\"]]),\n",
    "    }\n",
    "\n",
    "\n",
    "def inference(inputs: dict[str, np.ndarray]) -> np.ndarray:\n",
    "    return session.run([\"logits\"], inputs)[0]\n",
    "\n",
    "\n",
    "def postprocess(logits: np.ndarray) -> str:\n",
    "    return config.id2label[logits.argmax()]"
   ]
  },
  {
   "cell_type": "code",
   "execution_count": 31,
   "id": "b3462dd4-c02c-40d5-9ad9-549b863e9790",
   "metadata": {},
   "outputs": [],
   "source": [
    "def onnx_inference_session(text: str) -> str:\n",
    "    # tokenize text\n",
    "    inputs = preprocess(text)\n",
    "\n",
    "    # fire!\n",
    "    outputs = inference(inputs)\n",
    "\n",
    "    # most likely label\n",
    "    return postprocess(outputs)"
   ]
  },
  {
   "cell_type": "code",
   "execution_count": 32,
   "id": "9d361470-b970-4512-b41f-bc8956326bc3",
   "metadata": {},
   "outputs": [
    {
     "data": {
      "text/plain": [
       "'de'"
      ]
     },
     "execution_count": 32,
     "metadata": {},
     "output_type": "execute_result"
    }
   ],
   "source": [
    "onnx_inference_session(text)"
   ]
  },
  {
   "cell_type": "code",
   "execution_count": 33,
   "id": "6b40e770-a6ec-414f-931e-11eec67e7c8d",
   "metadata": {},
   "outputs": [
    {
     "name": "stdout",
     "output_type": "stream",
     "text": [
      "onnx_inference_session: {'mean': 13.870740413665771, 'median': 13.345718383789062, 'stdev': 1.1826071679709649}\n"
     ]
    }
   ],
   "source": [
    "timer.evaluate(onnx_inference_session, text)"
   ]
  },
  {
   "cell_type": "code",
   "execution_count": 34,
   "id": "342af7c2-aadf-4ee8-b7cf-ab889dc0cc95",
   "metadata": {},
   "outputs": [
    {
     "data": {
      "image/png": "[encoded data removed]",
      "text/plain": [
       "<Figure size 640x480 with 1 Axes>"
      ]
     },
     "metadata": {},
     "output_type": "display_data"
    }
   ],
   "source": [
    "timer.plot()"
   ]
  },
  {
   "cell_type": "markdown",
   "id": "cc59f679-1dfe-4c24-b5e5-78ef95e3782d",
   "metadata": {},
   "source": [
    "## Approach 4: Optimization\n",
    "\n",
    "We apply some optimizations now. There are a three different levels:\n",
    "\n",
    "- `1`: basic optimizations\n",
    "- `2`: basic and extended optimizations (incl. complex node fusions applied to the nodes, **making the resulting optimized graph hardware dependent**)\n",
    "- `99`: all available optimizations including layout optimizations\n"
   ]
  },
  {
   "cell_type": "markdown",
   "id": "4ffabd5e-71e0-4ef0-9d67-1f02847a5faa",
   "metadata": {},
   "source": [
    "### Basic Optimizations\n",
    "\n",
    "- Constant folding: Statically computes parts of the graph that rely only on constant initializers\n",
    "- Redundant node eliminations: Remove all redundant nodes without changing the graph structure\n",
    "- Semantics-preserving node fusions: Fuse/fold multiple nodes into a single node\n"
   ]
  },
  {
   "cell_type": "code",
   "execution_count": 35,
   "id": "869d993c-d4c7-4436-bf43-95df8169a74e",
   "metadata": {},
   "outputs": [],
   "source": [
    "optimizations = {}"
   ]
  },
  {
   "cell_type": "code",
   "execution_count": 36,
   "id": "6a4d4748-6dfb-4fa0-9d10-5041d2da3c85",
   "metadata": {},
   "outputs": [],
   "source": [
    "from optimum.onnxruntime import ORTModelForSequenceClassification\n",
    "from optimum.onnxruntime.configuration import OptimizationConfig\n",
    "from optimum.onnxruntime.optimization import ORTOptimizer"
   ]
  },
  {
   "cell_type": "code",
   "execution_count": 37,
   "id": "55a22062-a1be-4867-81d2-bf8807c93d88",
   "metadata": {},
   "outputs": [
    {
     "name": "stderr",
     "output_type": "stream",
     "text": [
      "Optimizing model...\n",
      "Configuration saved in onnx/ort_config.json\n",
      "Optimized model saved at: onnx (external data format: False; saved all tensor to one file: True)\n"
     ]
    },
    {
     "data": {
      "text/plain": [
       "PosixPath('onnx')"
      ]
     },
     "execution_count": 37,
     "metadata": {},
     "output_type": "execute_result"
    }
   ],
   "source": [
    "optimizer = ORTOptimizer.from_pretrained(onnx_model)\n",
    "optimization_config = OptimizationConfig(optimization_level=1)\n",
    "\n",
    "# optimize and serialize to disk\n",
    "optimizer.optimize(save_dir=\"onnx\", optimization_config=optimization_config)"
   ]
  },
  {
   "cell_type": "code",
   "execution_count": 38,
   "id": "d701eb4b-d460-4df3-af71-e02b864653b2",
   "metadata": {},
   "outputs": [],
   "source": [
    "session = InferenceSession(\"onnx/model_optimized.onnx\")"
   ]
  },
  {
   "cell_type": "code",
   "execution_count": 39,
   "id": "e9e7915e-9b25-4d33-88bb-48601aa96f35",
   "metadata": {},
   "outputs": [],
   "source": [
    "def onnx_optimized_1(text: str) -> str:\n",
    "    # tokenize text\n",
    "    inputs = preprocess(text)\n",
    "\n",
    "    # fire!\n",
    "    outputs = inference(inputs)\n",
    "\n",
    "    # most likely label\n",
    "    return postprocess(outputs)"
   ]
  },
  {
   "cell_type": "code",
   "execution_count": 40,
   "id": "d6ea5dfd-47e3-49c0-b46e-aece569ec170",
   "metadata": {},
   "outputs": [
    {
     "name": "stdout",
     "output_type": "stream",
     "text": [
      "onnx_optimized_1: {'mean': 12.283594131469727, 'median': 11.81340217590332, 'stdev': 1.5893929901633386}\n"
     ]
    }
   ],
   "source": [
    "median = timer.evaluate(onnx_optimized_1, text, return_median=True)\n",
    "optimizations[median] = optimization_config"
   ]
  },
  {
   "cell_type": "code",
   "execution_count": 41,
   "id": "7d7ef36d-5f5f-4240-816d-66140ea2e83a",
   "metadata": {},
   "outputs": [
    {
     "data": {
      "image/png": "[encoded data removed]",
      "text/plain": [
       "<Figure size 640x480 with 1 Axes>"
      ]
     },
     "metadata": {},
     "output_type": "display_data"
    }
   ],
   "source": [
    "timer.plot()"
   ]
  },
  {
   "cell_type": "markdown",
   "id": "52d5638a-49e7-4115-91d5-584199768d5b",
   "metadata": {},
   "source": [
    "### Both Basic and Extended Optimizations\n",
    "\n",
    "- Complex node fusions (e.g. fusing the BERT embedding layer, layer normalization and attention mask length)\n",
    "- Approximation\n"
   ]
  },
  {
   "cell_type": "code",
   "execution_count": 42,
   "id": "7d0ed7b9-025b-45f0-be59-21494a84d610",
   "metadata": {},
   "outputs": [
    {
     "name": "stderr",
     "output_type": "stream",
     "text": [
      "Optimizing model...\n",
      "Configuration saved in onnx/ort_config.json\n",
      "Optimized model saved at: onnx (external data format: False; saved all tensor to one file: True)\n"
     ]
    },
    {
     "data": {
      "text/plain": [
       "PosixPath('onnx')"
      ]
     },
     "execution_count": 42,
     "metadata": {},
     "output_type": "execute_result"
    }
   ],
   "source": [
    "optimizer = ORTOptimizer.from_pretrained(onnx_model)\n",
    "optimization_config = OptimizationConfig(optimization_level=2)\n",
    "\n",
    "# optimize and serialize to disk\n",
    "optimizer.optimize(save_dir=\"onnx\", optimization_config=optimization_config)"
   ]
  },
  {
   "cell_type": "code",
   "execution_count": 43,
   "id": "81990323-f4df-4148-886d-cb154a7368cf",
   "metadata": {},
   "outputs": [],
   "source": [
    "session = InferenceSession(\"onnx/model_optimized.onnx\")"
   ]
  },
  {
   "cell_type": "code",
   "execution_count": 44,
   "id": "1b7e3454-c01c-4f9b-b1cd-db5585ffd23d",
   "metadata": {},
   "outputs": [],
   "source": [
    "def onnx_optimized_2(text: str) -> str:\n",
    "    # tokenize text\n",
    "    inputs = preprocess(text)\n",
    "\n",
    "    # fire!\n",
    "    outputs = inference(inputs)\n",
    "\n",
    "    # most likely label\n",
    "    return postprocess(outputs)"
   ]
  },
  {
   "cell_type": "code",
   "execution_count": 45,
   "id": "f97408fe-03ec-47a5-9323-d0bafd09653e",
   "metadata": {},
   "outputs": [
    {
     "name": "stdout",
     "output_type": "stream",
     "text": [
      "onnx_optimized_2: {'mean': 11.905151128768921, 'median': 11.83164119720459, 'stdev': 0.3487942464172585}\n"
     ]
    }
   ],
   "source": [
    "median = timer.evaluate(onnx_optimized_2, text, return_median=True)\n",
    "optimizations[median] = optimization_config"
   ]
  },
  {
   "cell_type": "code",
   "execution_count": 46,
   "id": "cd1c395b-5b6a-44cd-a96e-37cf80a7140a",
   "metadata": {},
   "outputs": [
    {
     "data": {
      "image/png": "[encoded data removed]",
      "text/plain": [
       "<Figure size 640x480 with 1 Axes>"
      ]
     },
     "metadata": {},
     "output_type": "display_data"
    }
   ],
   "source": [
    "timer.plot()"
   ]
  },
  {
   "cell_type": "markdown",
   "id": "95d2f1bd-bdaf-484c-a80c-a4ff62c14e33",
   "metadata": {},
   "source": [
    "### Layout Optimizations\n",
    "\n",
    "- Changing the data layout (i.e. using the NCHWc layout instead of the NCHW layout)\n",
    "\n",
    "#### WTF is NCHWc/NCHW?\n",
    "\n",
    "- A way to store multidimensional arrays into memory\n",
    "- NCHWc is one example of using data layout to improve spatial locality for a specific hardware target\n",
    "- In this case it is convenient to have channel as the innermost dimension as it is often a power of two and larger than the vector width x86 CPUs (both AVX-2 and AVX-512)\n",
    "- Note that this is **hardware target dependent**\n"
   ]
  },
  {
   "cell_type": "code",
   "execution_count": 47,
   "id": "853f9bc5-5442-40ce-a323-8dc20330ac80",
   "metadata": {},
   "outputs": [
    {
     "name": "stderr",
     "output_type": "stream",
     "text": [
      "Optimizing model...\n",
      "\u001b[0;93m2024-10-30 18:34:14.551447934 [W:onnxruntime:, inference_session.cc:2039 Initialize] Serializing optimized model with Graph Optimization level greater than ORT_ENABLE_EXTENDED and the NchwcTransformer enabled. The generated model may contain hardware specific optimizations, and should only be used in the same environment the model was optimized in.\u001b[m\n",
      "Configuration saved in onnx/ort_config.json\n",
      "Optimized model saved at: onnx (external data format: False; saved all tensor to one file: True)\n"
     ]
    },
    {
     "data": {
      "text/plain": [
       "PosixPath('onnx')"
      ]
     },
     "execution_count": 47,
     "metadata": {},
     "output_type": "execute_result"
    }
   ],
   "source": [
    "optimizer = ORTOptimizer.from_pretrained(onnx_model)\n",
    "optimization_config = OptimizationConfig(optimization_level=99)\n",
    "\n",
    "# optimize and serialize to disk\n",
    "optimizer.optimize(save_dir=\"onnx\", optimization_config=optimization_config)"
   ]
  },
  {
   "cell_type": "code",
   "execution_count": 48,
   "id": "c79f6772-e7bf-4cf1-a483-c73a053dcb46",
   "metadata": {},
   "outputs": [],
   "source": [
    "session = InferenceSession(\"onnx/model_optimized.onnx\")"
   ]
  },
  {
   "cell_type": "code",
   "execution_count": 49,
   "id": "6dbf3e69-ad3d-4e99-991b-6183828a78d8",
   "metadata": {},
   "outputs": [],
   "source": [
    "def onnx_optimized_99(text: str) -> str:\n",
    "    # tokenize text\n",
    "    inputs = preprocess(text)\n",
    "\n",
    "    # fire!\n",
    "    outputs = inference(inputs)\n",
    "\n",
    "    # most likely label\n",
    "    return postprocess(outputs)"
   ]
  },
  {
   "cell_type": "code",
   "execution_count": 50,
   "id": "fa7a99a6-733c-4eeb-88fb-dc7a64a6d220",
   "metadata": {},
   "outputs": [
    {
     "name": "stdout",
     "output_type": "stream",
     "text": [
      "onnx_optimized_99: {'mean': 12.25509762763977, 'median': 11.920452117919922, 'stdev': 1.4406915776358362}\n"
     ]
    }
   ],
   "source": [
    "median = timer.evaluate(onnx_optimized_99, text, return_median=True)\n",
    "optimizations[median] = optimization_config"
   ]
  },
  {
   "cell_type": "code",
   "execution_count": 51,
   "id": "5a64c273-6561-4182-8cdc-1c1a9eade0d1",
   "metadata": {},
   "outputs": [
    {
     "data": {
      "image/png": "[encoded data removed]",
      "text/plain": [
       "<Figure size 640x480 with 1 Axes>"
      ]
     },
     "metadata": {},
     "output_type": "display_data"
    }
   ],
   "source": [
    "timer.plot()"
   ]
  },
  {
   "cell_type": "code",
   "execution_count": 52,
   "id": "b4673262-cb15-4440-95a5-0c771647ab34",
   "metadata": {},
   "outputs": [
    {
     "data": {
      "text/html": [
       "<div>\n",
       "<style scoped>\n",
       "    .dataframe tbody tr th:only-of-type {\n",
       "        vertical-align: middle;\n",
       "    }\n",
       "\n",
       "    .dataframe tbody tr th {\n",
       "        vertical-align: top;\n",
       "    }\n",
       "\n",
       "    .dataframe thead th {\n",
       "        text-align: right;\n",
       "    }\n",
       "</style>\n",
       "<table border=\"1\" class=\"dataframe\">\n",
       "  <thead>\n",
       "    <tr style=\"text-align: right;\">\n",
       "      <th></th>\n",
       "      <th>mean</th>\n",
       "      <th>median</th>\n",
       "      <th>stdev</th>\n",
       "    </tr>\n",
       "  </thead>\n",
       "  <tbody>\n",
       "    <tr>\n",
       "      <th>onnx_optimized_1</th>\n",
       "      <td>12.283594</td>\n",
       "      <td>11.813402</td>\n",
       "      <td>1.589393</td>\n",
       "    </tr>\n",
       "    <tr>\n",
       "      <th>onnx_optimized_2</th>\n",
       "      <td>11.905151</td>\n",
       "      <td>11.831641</td>\n",
       "      <td>0.348794</td>\n",
       "    </tr>\n",
       "    <tr>\n",
       "      <th>onnx_optimized_99</th>\n",
       "      <td>12.255098</td>\n",
       "      <td>11.920452</td>\n",
       "      <td>1.440692</td>\n",
       "    </tr>\n",
       "    <tr>\n",
       "      <th>onnx_inference_session</th>\n",
       "      <td>13.870740</td>\n",
       "      <td>13.345718</td>\n",
       "      <td>1.182607</td>\n",
       "    </tr>\n",
       "    <tr>\n",
       "      <th>onnx_pipeline</th>\n",
       "      <td>22.047639</td>\n",
       "      <td>22.123694</td>\n",
       "      <td>1.516272</td>\n",
       "    </tr>\n",
       "    <tr>\n",
       "      <th>simple_pipeline</th>\n",
       "      <td>44.702987</td>\n",
       "      <td>44.762850</td>\n",
       "      <td>1.992070</td>\n",
       "    </tr>\n",
       "    <tr>\n",
       "      <th>preprocess_inference_postprocess</th>\n",
       "      <td>46.659456</td>\n",
       "      <td>46.164274</td>\n",
       "      <td>2.562030</td>\n",
       "    </tr>\n",
       "  </tbody>\n",
       "</table>\n",
       "</div>"
      ],
      "text/plain": [
       "                                       mean     median     stdev\n",
       "onnx_optimized_1                  12.283594  11.813402  1.589393\n",
       "onnx_optimized_2                  11.905151  11.831641  0.348794\n",
       "onnx_optimized_99                 12.255098  11.920452  1.440692\n",
       "onnx_inference_session            13.870740  13.345718  1.182607\n",
       "onnx_pipeline                     22.047639  22.123694  1.516272\n",
       "simple_pipeline                   44.702987  44.762850  1.992070\n",
       "preprocess_inference_postprocess  46.659456  46.164274  2.562030"
      ]
     },
     "execution_count": 52,
     "metadata": {},
     "output_type": "execute_result"
    }
   ],
   "source": [
    "timer.summary()"
   ]
  },
  {
   "cell_type": "markdown",
   "id": "add9885c-6aab-40ba-936c-dde98fcb66d9",
   "metadata": {},
   "source": [
    "### Float32 to Float16\n",
    "\n",
    "All weights and nodes are converted from float32 to float16.\n"
   ]
  },
  {
   "cell_type": "code",
   "execution_count": 53,
   "id": "776ddebd-84b3-461b-bc94-dad416b4d771",
   "metadata": {},
   "outputs": [
    {
     "name": "stderr",
     "output_type": "stream",
     "text": [
      "Optimizing model...\n",
      "Configuration saved in onnx/ort_config.json\n",
      "Optimized model saved at: onnx (external data format: False; saved all tensor to one file: True)\n"
     ]
    },
    {
     "data": {
      "text/plain": [
       "PosixPath('onnx')"
      ]
     },
     "execution_count": 53,
     "metadata": {},
     "output_type": "execute_result"
    }
   ],
   "source": [
    "optimizer = ORTOptimizer.from_pretrained(onnx_model)\n",
    "optimization_config = OptimizationConfig(fp16=True)\n",
    "optimizer.optimize(save_dir=\"onnx\", optimization_config=optimization_config)"
   ]
  },
  {
   "cell_type": "code",
   "execution_count": 54,
   "id": "ce748451-17dc-4a15-bb93-7e495d739611",
   "metadata": {},
   "outputs": [],
   "source": [
    "session = InferenceSession(\"onnx/model_optimized.onnx\")"
   ]
  },
  {
   "cell_type": "code",
   "execution_count": 55,
   "id": "1c0597d2-b609-4c31-aee5-60dd5ecde188",
   "metadata": {},
   "outputs": [],
   "source": [
    "def onnx_float16(text: str) -> str:\n",
    "    # tokenize text\n",
    "    inputs = preprocess(text)\n",
    "\n",
    "    # fire!\n",
    "    outputs = inference(inputs)\n",
    "\n",
    "    # most likely label\n",
    "    return postprocess(outputs)"
   ]
  },
  {
   "cell_type": "code",
   "execution_count": 56,
   "id": "f075cf07-b59f-4d81-a4d8-036fcd312015",
   "metadata": {},
   "outputs": [
    {
     "name": "stdout",
     "output_type": "stream",
     "text": [
      "onnx_float16: {'mean': 119.78574752807617, 'median': 119.28534507751465, 'stdev': 3.744365201957867}\n"
     ]
    }
   ],
   "source": [
    "timer.evaluate(onnx_float16, text)"
   ]
  },
  {
   "cell_type": "code",
   "execution_count": 57,
   "id": "d55ac113-7079-42af-81ac-52d0c542b248",
   "metadata": {},
   "outputs": [
    {
     "data": {
      "image/png": "[encoded data removed]",
      "text/plain": [
       "<Figure size 640x480 with 1 Axes>"
      ]
     },
     "metadata": {},
     "output_type": "display_data"
    }
   ],
   "source": [
    "timer.plot()"
   ]
  },
  {
   "cell_type": "markdown",
   "id": "5efb94c1-a06c-4e8d-9489-ec13199634e4",
   "metadata": {},
   "source": [
    "### Why tho?\n",
    "\n",
    "Many CPUs do not natively support the float16 type and have to calculate the float16 value first?\n"
   ]
  },
  {
   "cell_type": "markdown",
   "id": "5232c8da-0c53-43b7-a62d-877e1cce0cea",
   "metadata": {},
   "source": [
    "## Approach 4: Quantization\n",
    "\n",
    "From the [Optimum documentation](https://huggingface.co/docs/optimum/main/en/concept_guides/quantization#quantization):\n",
    "\n",
    "> Quantization is a technique to reduce the computational and memory cost of running inference by **representing the weights and activations with low-precision data types like 8-bit integer (INT8) instead of the usual 32-bit floating point (FP32)**. Reducing the number of bits means the resulting model requires **less memory storage**, and operations like matrix multiplication can be performed much **faster with integer arithmetic**. Remarkably, these performance gains can be realized with **little to no loss in accuracy**.\n"
   ]
  },
  {
   "cell_type": "code",
   "execution_count": 58,
   "id": "1c612bf0-2a4e-463d-aa03-bf3c3b0cfce2",
   "metadata": {},
   "outputs": [],
   "source": [
    "quantizations = {}"
   ]
  },
  {
   "cell_type": "markdown",
   "id": "43ac2a9d-b96d-4bfa-89a9-dd1187afe059",
   "metadata": {},
   "source": [
    "Using the best model so far:\n"
   ]
  },
  {
   "cell_type": "code",
   "execution_count": 59,
   "id": "e4b78a0d-054c-47e1-8da6-c5d75a210896",
   "metadata": {},
   "outputs": [
    {
     "name": "stderr",
     "output_type": "stream",
     "text": [
      "Optimizing model...\n",
      "Configuration saved in onnx/ort_config.json\n",
      "Optimized model saved at: onnx (external data format: False; saved all tensor to one file: True)\n"
     ]
    },
    {
     "data": {
      "text/plain": [
       "PosixPath('onnx')"
      ]
     },
     "execution_count": 59,
     "metadata": {},
     "output_type": "execute_result"
    }
   ],
   "source": [
    "optimizer = ORTOptimizer.from_pretrained(onnx_model)\n",
    "\n",
    "# use best optimization\n",
    "optimization_config = optimizations[min(optimizations)]\n",
    "\n",
    "# optimize and serialize to disk\n",
    "optimizer.optimize(save_dir=\"onnx\", optimization_config=optimization_config)"
   ]
  },
  {
   "cell_type": "markdown",
   "id": "2e2502ae-8327-47cb-8fe1-bad601f176b6",
   "metadata": {},
   "source": [
    "### AVX2\n",
    "\n",
    "AVX2 expands most integer commands to 256 bits and introduces new instructions.\n"
   ]
  },
  {
   "cell_type": "code",
   "execution_count": 60,
   "id": "2e969410-13c9-47bf-a0bf-4abcc77e5a5f",
   "metadata": {},
   "outputs": [],
   "source": [
    "from pathlib import Path\n",
    "\n",
    "import onnx\n",
    "from optimum.onnxruntime import AutoQuantizationConfig, ORTQuantizer"
   ]
  },
  {
   "cell_type": "code",
   "execution_count": 61,
   "id": "76072595-c4c5-4680-aee2-c2735d0f1ffb",
   "metadata": {},
   "outputs": [
    {
     "name": "stderr",
     "output_type": "stream",
     "text": [
      "Creating dynamic quantizer: QOperator (mode: IntegerOps, schema: u8/u8, channel-wise: True)\n",
      "Quantizing model...\n",
      "Saving quantized model at: onnx (external data format: False)\n",
      "Configuration saved in onnx/ort_config.json\n"
     ]
    },
    {
     "data": {
      "text/plain": [
       "PosixPath('onnx')"
      ]
     },
     "execution_count": 61,
     "metadata": {},
     "output_type": "execute_result"
    }
   ],
   "source": [
    "quantizer = ORTQuantizer(Path(\"onnx/model_optimized.onnx\"))\n",
    "quantization_config = AutoQuantizationConfig.avx2(is_static=False)\n",
    "quantizer.quantize(\n",
    "    quantization_config, \"onnx\", extra_options={\"DefaultTensorType\": onnx.TensorProto.FLOAT}\n",
    ")"
   ]
  },
  {
   "cell_type": "code",
   "execution_count": 62,
   "id": "03eac636-6f0d-48dc-975d-ed45003aed5b",
   "metadata": {},
   "outputs": [],
   "source": [
    "session = InferenceSession(\"onnx/model_optimized_quantized.onnx\")"
   ]
  },
  {
   "cell_type": "code",
   "execution_count": 63,
   "id": "c11db9db-a41a-41f7-b8bd-922fb590dea1",
   "metadata": {},
   "outputs": [],
   "source": [
    "def onnx_optimized_quantized_avx2(text: str) -> str:\n",
    "    # tokenize text\n",
    "    inputs = preprocess(text)\n",
    "\n",
    "    # fire!\n",
    "    outputs = inference(inputs)\n",
    "\n",
    "    # most likely label\n",
    "    return postprocess(outputs)"
   ]
  },
  {
   "cell_type": "code",
   "execution_count": 64,
   "id": "69086741-49c8-47f9-b80c-b427a1598ed2",
   "metadata": {},
   "outputs": [
    {
     "name": "stdout",
     "output_type": "stream",
     "text": [
      "onnx_optimized_quantized_avx2: {'mean': 5.583106279373169, 'median': 5.554914474487305, 'stdev': 0.20499636141114633}\n"
     ]
    }
   ],
   "source": [
    "median = timer.evaluate(onnx_optimized_quantized_avx2, text, return_median=True)\n",
    "quantizations[median] = quantization_config"
   ]
  },
  {
   "cell_type": "code",
   "execution_count": 65,
   "id": "d0f00a98-7991-43b4-8abb-6d9d904494ed",
   "metadata": {},
   "outputs": [
    {
     "data": {
      "image/png": "[encoded data removed]",
      "text/plain": [
       "<Figure size 640x480 with 1 Axes>"
      ]
     },
     "metadata": {},
     "output_type": "display_data"
    }
   ],
   "source": [
    "timer.plot()"
   ]
  },
  {
   "cell_type": "markdown",
   "id": "5f3991b5-6952-43c9-9c55-b4db197a10ff",
   "metadata": {},
   "source": [
    "### AVX-512\n",
    "\n",
    "Advanced Vector Extensions 512 (AVX-512) is the collective name for a number of 512-bit SIMD x86 instruction set extensions.\n"
   ]
  },
  {
   "cell_type": "code",
   "execution_count": 66,
   "id": "2e97ac0c-5a35-4fc8-9894-5c12ae30ddc9",
   "metadata": {},
   "outputs": [
    {
     "name": "stderr",
     "output_type": "stream",
     "text": [
      "Creating dynamic quantizer: QOperator (mode: IntegerOps, schema: u8/s8, channel-wise: True)\n",
      "Quantizing model...\n",
      "Saving quantized model at: onnx (external data format: False)\n",
      "Configuration saved in onnx/ort_config.json\n"
     ]
    },
    {
     "data": {
      "text/plain": [
       "PosixPath('onnx')"
      ]
     },
     "execution_count": 66,
     "metadata": {},
     "output_type": "execute_result"
    }
   ],
   "source": [
    "quantizer = ORTQuantizer(Path(\"onnx/model_optimized.onnx\"))\n",
    "quantization_config = AutoQuantizationConfig.avx512(is_static=False)\n",
    "quantizer.quantize(\n",
    "    quantization_config, \"onnx\", extra_options={\"DefaultTensorType\": onnx.TensorProto.FLOAT}\n",
    ")"
   ]
  },
  {
   "cell_type": "code",
   "execution_count": 67,
   "id": "ec444a55-89a8-4939-a2c8-10349c815007",
   "metadata": {},
   "outputs": [],
   "source": [
    "session = InferenceSession(\"onnx/model_optimized_quantized.onnx\")"
   ]
  },
  {
   "cell_type": "code",
   "execution_count": 68,
   "id": "1cf8d47d-355d-4cf2-bafb-ec66a314c5b9",
   "metadata": {},
   "outputs": [],
   "source": [
    "def onnx_optimized_quantized_avx512(text: str) -> str:\n",
    "    # tokenize text\n",
    "    inputs = preprocess(text)\n",
    "\n",
    "    # fire!\n",
    "    outputs = inference(inputs)\n",
    "\n",
    "    # most likely label\n",
    "    return postprocess(outputs)"
   ]
  },
  {
   "cell_type": "code",
   "execution_count": 69,
   "id": "ceed8cd9-cbb6-43b5-b53b-c9181ca272e1",
   "metadata": {},
   "outputs": [
    {
     "name": "stdout",
     "output_type": "stream",
     "text": [
      "onnx_optimized_quantized_avx512: {'mean': 5.548020362854004, 'median': 5.538344383239746, 'stdev': 0.18948561671113415}\n"
     ]
    }
   ],
   "source": [
    "median = timer.evaluate(onnx_optimized_quantized_avx512, text, return_median=True)\n",
    "quantizations[median] = quantization_config"
   ]
  },
  {
   "cell_type": "code",
   "execution_count": 70,
   "id": "5956fc4a-6851-4202-a5b2-9533cdb9d3fa",
   "metadata": {},
   "outputs": [
    {
     "data": {
      "image/png": "[encoded data removed]",
      "text/plain": [
       "<Figure size 640x480 with 1 Axes>"
      ]
     },
     "metadata": {},
     "output_type": "display_data"
    }
   ],
   "source": [
    "timer.plot()"
   ]
  },
  {
   "cell_type": "markdown",
   "id": "06a8f392-73e7-4ed8-86cb-5d74c2a0b621",
   "metadata": {},
   "source": [
    "### AVX-512 VNNI\n",
    "\n",
    "AVX-512 Vector Neural Network Instructions (AVX512 VNNI) is an x86 extension, part of the AVX-512, designed to accelerate convolutional neural network-based algorithms.\n"
   ]
  },
  {
   "cell_type": "code",
   "execution_count": 71,
   "id": "39893824-7636-4a3d-9f12-0e68274297af",
   "metadata": {},
   "outputs": [
    {
     "name": "stderr",
     "output_type": "stream",
     "text": [
      "Creating dynamic quantizer: QOperator (mode: IntegerOps, schema: u8/s8, channel-wise: True)\n",
      "Quantizing model...\n",
      "Saving quantized model at: onnx (external data format: False)\n",
      "Configuration saved in onnx/ort_config.json\n"
     ]
    },
    {
     "data": {
      "text/plain": [
       "PosixPath('onnx')"
      ]
     },
     "execution_count": 71,
     "metadata": {},
     "output_type": "execute_result"
    }
   ],
   "source": [
    "quantizer = ORTQuantizer(Path(\"onnx/model_optimized.onnx\"))\n",
    "quantization_config = AutoQuantizationConfig.avx512_vnni(is_static=False)\n",
    "quantizer.quantize(\n",
    "    quantization_config, \"onnx\", extra_options={\"DefaultTensorType\": onnx.TensorProto.FLOAT}\n",
    ")"
   ]
  },
  {
   "cell_type": "code",
   "execution_count": 72,
   "id": "0b3c39ec-3967-4a33-b30d-bf8ac3fb9043",
   "metadata": {},
   "outputs": [],
   "source": [
    "session = InferenceSession(\"onnx/model_optimized_quantized.onnx\")"
   ]
  },
  {
   "cell_type": "code",
   "execution_count": 73,
   "id": "87795c30-c6db-49fe-bddb-3c11ea92d5a2",
   "metadata": {},
   "outputs": [],
   "source": [
    "def onnx_optimized_quantized_avx512_vnni(text: str) -> str:\n",
    "    # tokenize text\n",
    "    inputs = preprocess(text)\n",
    "\n",
    "    # fire!\n",
    "    outputs = inference(inputs)\n",
    "\n",
    "    # most likely label\n",
    "    return postprocess(outputs)"
   ]
  },
  {
   "cell_type": "code",
   "execution_count": 74,
   "id": "4a96bb84-746c-429e-be98-1bb43d293e7c",
   "metadata": {},
   "outputs": [
    {
     "name": "stdout",
     "output_type": "stream",
     "text": [
      "onnx_optimized_quantized_avx512_vnni: {'mean': 8.118718385696411, 'median': 7.980823516845703, 'stdev': 1.008285363472563}\n"
     ]
    }
   ],
   "source": [
    "median = timer.evaluate(onnx_optimized_quantized_avx512_vnni, text, return_median=True)\n",
    "quantizations[median] = quantization_config"
   ]
  },
  {
   "cell_type": "code",
   "execution_count": 75,
   "id": "18de2424-fdc1-4dd0-9119-41d799828f67",
   "metadata": {},
   "outputs": [
    {
     "data": {
      "image/png": "[encoded data removed]",
      "text/plain": [
       "<Figure size 640x480 with 1 Axes>"
      ]
     },
     "metadata": {},
     "output_type": "display_data"
    }
   ],
   "source": [
    "timer.plot()"
   ]
  },
  {
   "cell_type": "code",
   "execution_count": 76,
   "id": "b78687ea-1aac-4b48-930e-cb07a92fe5c3",
   "metadata": {},
   "outputs": [
    {
     "data": {
      "text/html": [
       "<div>\n",
       "<style scoped>\n",
       "    .dataframe tbody tr th:only-of-type {\n",
       "        vertical-align: middle;\n",
       "    }\n",
       "\n",
       "    .dataframe tbody tr th {\n",
       "        vertical-align: top;\n",
       "    }\n",
       "\n",
       "    .dataframe thead th {\n",
       "        text-align: right;\n",
       "    }\n",
       "</style>\n",
       "<table border=\"1\" class=\"dataframe\">\n",
       "  <thead>\n",
       "    <tr style=\"text-align: right;\">\n",
       "      <th></th>\n",
       "      <th>mean</th>\n",
       "      <th>median</th>\n",
       "      <th>stdev</th>\n",
       "    </tr>\n",
       "  </thead>\n",
       "  <tbody>\n",
       "    <tr>\n",
       "      <th>onnx_optimized_quantized_avx512</th>\n",
       "      <td>5.548020</td>\n",
       "      <td>5.538344</td>\n",
       "      <td>0.189486</td>\n",
       "    </tr>\n",
       "    <tr>\n",
       "      <th>onnx_optimized_quantized_avx2</th>\n",
       "      <td>5.583106</td>\n",
       "      <td>5.554914</td>\n",
       "      <td>0.204996</td>\n",
       "    </tr>\n",
       "    <tr>\n",
       "      <th>onnx_optimized_quantized_avx512_vnni</th>\n",
       "      <td>8.118718</td>\n",
       "      <td>7.980824</td>\n",
       "      <td>1.008285</td>\n",
       "    </tr>\n",
       "    <tr>\n",
       "      <th>onnx_optimized_1</th>\n",
       "      <td>12.283594</td>\n",
       "      <td>11.813402</td>\n",
       "      <td>1.589393</td>\n",
       "    </tr>\n",
       "    <tr>\n",
       "      <th>onnx_optimized_2</th>\n",
       "      <td>11.905151</td>\n",
       "      <td>11.831641</td>\n",
       "      <td>0.348794</td>\n",
       "    </tr>\n",
       "    <tr>\n",
       "      <th>onnx_optimized_99</th>\n",
       "      <td>12.255098</td>\n",
       "      <td>11.920452</td>\n",
       "      <td>1.440692</td>\n",
       "    </tr>\n",
       "    <tr>\n",
       "      <th>onnx_inference_session</th>\n",
       "      <td>13.870740</td>\n",
       "      <td>13.345718</td>\n",
       "      <td>1.182607</td>\n",
       "    </tr>\n",
       "    <tr>\n",
       "      <th>onnx_pipeline</th>\n",
       "      <td>22.047639</td>\n",
       "      <td>22.123694</td>\n",
       "      <td>1.516272</td>\n",
       "    </tr>\n",
       "    <tr>\n",
       "      <th>simple_pipeline</th>\n",
       "      <td>44.702987</td>\n",
       "      <td>44.762850</td>\n",
       "      <td>1.992070</td>\n",
       "    </tr>\n",
       "    <tr>\n",
       "      <th>preprocess_inference_postprocess</th>\n",
       "      <td>46.659456</td>\n",
       "      <td>46.164274</td>\n",
       "      <td>2.562030</td>\n",
       "    </tr>\n",
       "    <tr>\n",
       "      <th>onnx_float16</th>\n",
       "      <td>119.785748</td>\n",
       "      <td>119.285345</td>\n",
       "      <td>3.744365</td>\n",
       "    </tr>\n",
       "  </tbody>\n",
       "</table>\n",
       "</div>"
      ],
      "text/plain": [
       "                                            mean      median     stdev\n",
       "onnx_optimized_quantized_avx512         5.548020    5.538344  0.189486\n",
       "onnx_optimized_quantized_avx2           5.583106    5.554914  0.204996\n",
       "onnx_optimized_quantized_avx512_vnni    8.118718    7.980824  1.008285\n",
       "onnx_optimized_1                       12.283594   11.813402  1.589393\n",
       "onnx_optimized_2                       11.905151   11.831641  0.348794\n",
       "onnx_optimized_99                      12.255098   11.920452  1.440692\n",
       "onnx_inference_session                 13.870740   13.345718  1.182607\n",
       "onnx_pipeline                          22.047639   22.123694  1.516272\n",
       "simple_pipeline                        44.702987   44.762850  1.992070\n",
       "preprocess_inference_postprocess       46.659456   46.164274  2.562030\n",
       "onnx_float16                          119.785748  119.285345  3.744365"
      ]
     },
     "execution_count": 76,
     "metadata": {},
     "output_type": "execute_result"
    }
   ],
   "source": [
    "timer.summary()"
   ]
  },
  {
   "cell_type": "markdown",
   "id": "758e06aa-590e-4e22-9610-3ec948ca3001",
   "metadata": {},
   "source": [
    "## Approach 5: ONNX Inference Session Options as Hyperparameters\n",
    "\n",
    "There are some options to configure the ONNX `InferenceSession`:\n",
    "\n",
    "- `enable_cpu_mem_arena`: Enables the memory arena on CPU. Arena may pre-allocate memory for future usage. Default is `True`.\n",
    "- `enable_mem_pattern`: Enable the memory pattern optimization. Default is `True`.\n",
    "- `execution_mode`: Execution mode (sequential, parallel) of the inference. Default is `sequential`.\n",
    "- `execution_order`: Execution order (topological, priority-based). Default is basic topological order.\n",
    "- `inter_op_num_threads`: Number of threads used to parallelize the execution of the graph (across nodes). Default is `0`.\n",
    "- `intra_op_num_threads`: Number of threads used to parallelize the execution within nodes. Default is `0`.\n",
    "- `use_deterministic_compute`: Whether to use deterministic compute. Default is `False`.\n"
   ]
  },
  {
   "cell_type": "code",
   "execution_count": 77,
   "id": "085ba271-a2b7-4ee0-b715-182c2720c6b3",
   "metadata": {},
   "outputs": [],
   "source": [
    "from utils import ONNXSearchSpace"
   ]
  },
  {
   "cell_type": "code",
   "execution_count": 78,
   "id": "683ae208-6ab4-4d49-9ebc-1188f2329315",
   "metadata": {},
   "outputs": [],
   "source": [
    "onnx_timer = Timer(num_loops=num_loops)"
   ]
  },
  {
   "cell_type": "markdown",
   "id": "62ba0e58-50f2-463e-8a8c-a774a2769105",
   "metadata": {},
   "source": [
    "We use the fastest model so far:"
   ]
  },
  {
   "cell_type": "code",
   "execution_count": 79,
   "id": "f4d09c6d-d0d9-4c08-82ea-bf30def07d0c",
   "metadata": {},
   "outputs": [
    {
     "name": "stderr",
     "output_type": "stream",
     "text": [
      "Creating dynamic quantizer: QOperator (mode: IntegerOps, schema: u8/s8, channel-wise: True)\n",
      "Quantizing model...\n",
      "Saving quantized model at: onnx (external data format: False)\n",
      "Configuration saved in onnx/ort_config.json\n"
     ]
    },
    {
     "data": {
      "text/plain": [
       "PosixPath('onnx')"
      ]
     },
     "execution_count": 79,
     "metadata": {},
     "output_type": "execute_result"
    }
   ],
   "source": [
    "quantizer = ORTQuantizer(Path(\"onnx/model_optimized.onnx\"))\n",
    "\n",
    "# use best quantization\n",
    "quantization_config = quantizations[min(quantizations)]\n",
    "\n",
    "# quantize and serialize to disk\n",
    "quantizer.quantize(\n",
    "    quantization_config, \"onnx\", extra_options={\"DefaultTensorType\": onnx.TensorProto.FLOAT}\n",
    ")"
   ]
  },
  {
   "cell_type": "code",
   "execution_count": 80,
   "id": "d7f22b21-863c-48c5-878a-5b8be02fd33b",
   "metadata": {},
   "outputs": [
    {
     "name": "stdout",
     "output_type": "stream",
     "text": [
      "We'll try 289 different session option configurations\n"
     ]
    }
   ],
   "source": [
    "search_space = ONNXSearchSpace()\n",
    "\n",
    "print(f\"We'll try {len(search_space)} different session option configurations\")"
   ]
  },
  {
   "cell_type": "markdown",
   "id": "352d16d9-f33d-480c-8578-57970e7f7c33",
   "metadata": {},
   "source": [
    "We profile only the inference part now:\n"
   ]
  },
  {
   "cell_type": "code",
   "execution_count": 81,
   "id": "8ebefc86-a0ea-4497-a2b0-5c3b532d8c54",
   "metadata": {},
   "outputs": [
    {
     "data": {
      "text/plain": [
       "{'input_ids': array([[     0,  65787,   1297,  99837,    443,    381,  87659,     67,\n",
       "          22968,  54981,    122, 216357,     19,  54493,    581, 130904,\n",
       "              5,      2]]),\n",
       " 'attention_mask': array([[1, 1, 1, 1, 1, 1, 1, 1, 1, 1, 1, 1, 1, 1, 1, 1, 1, 1]])}"
      ]
     },
     "execution_count": 81,
     "metadata": {},
     "output_type": "execute_result"
    }
   ],
   "source": [
    "inputs = preprocess(text)\n",
    "inputs"
   ]
  },
  {
   "cell_type": "code",
   "execution_count": 82,
   "id": "71a912f9-7006-4a82-9fd9-0655e077efa0",
   "metadata": {},
   "outputs": [
    {
     "name": "stderr",
     "output_type": "stream",
     "text": [
      "100%|██████████████████████████████████████████████████████████████████████████████████████████████████████████████████████████████████████████████████████████| 289/289 [43:09<00:00,  8.96s/it]\n"
     ]
    }
   ],
   "source": [
    "from tqdm import tqdm\n",
    "\n",
    "results = {}\n",
    "\n",
    "for options in tqdm(search_space):\n",
    "    # load inference session with the given session options\n",
    "    session = InferenceSession(\"onnx/model_optimized_quantized.onnx\", options)\n",
    "\n",
    "    median = onnx_timer.evaluate(inference, inputs, verbosity=0, return_median=True)\n",
    "    results[median] = options"
   ]
  },
  {
   "cell_type": "code",
   "execution_count": 83,
   "id": "ffd7eea8-a388-4b93-9cb6-fcd5c8803b3d",
   "metadata": {},
   "outputs": [
    {
     "name": "stdout",
     "output_type": "stream",
     "text": [
      "Best time: 5.315303802490234\n",
      "Worst time: 14.996528625488281\n"
     ]
    }
   ],
   "source": [
    "print(f\"Best time: {min(results)}\")\n",
    "print(f\"Worst time: {max(results)}\")"
   ]
  },
  {
   "cell_type": "code",
   "execution_count": 84,
   "id": "a811f9d8-1783-43d8-8c4a-2208da583be5",
   "metadata": {},
   "outputs": [],
   "source": [
    "session = InferenceSession(\"onnx/model_optimized_quantized.onnx\", results[min(results)])\n",
    "\n",
    "\n",
    "def onnx_optimized_quantized_best_options(text: str) -> str:\n",
    "    # tokenize text\n",
    "    inputs = preprocess(text)\n",
    "\n",
    "    # fire!\n",
    "    outputs = inference(inputs)\n",
    "\n",
    "    # most likely label\n",
    "    return postprocess(outputs)"
   ]
  },
  {
   "cell_type": "code",
   "execution_count": 85,
   "id": "0fdf2ecb-28c6-4993-bf1e-6715d86d04ca",
   "metadata": {},
   "outputs": [
    {
     "name": "stdout",
     "output_type": "stream",
     "text": [
      "onnx_optimized_quantized_best_options: {'mean': 6.2122392654418945, 'median': 5.547642707824707, 'stdev': 1.093575184476011}\n"
     ]
    }
   ],
   "source": [
    "timer.evaluate(onnx_optimized_quantized_best_options, text)"
   ]
  },
  {
   "cell_type": "code",
   "execution_count": 86,
   "id": "7378571d-ba01-4f30-811b-2277d8a0616f",
   "metadata": {},
   "outputs": [
    {
     "data": {
      "image/png": "[encoded data removed]",
      "text/plain": [
       "<Figure size 640x480 with 1 Axes>"
      ]
     },
     "metadata": {},
     "output_type": "display_data"
    }
   ],
   "source": [
    "timer.plot()"
   ]
  },
  {
   "cell_type": "code",
   "execution_count": 87,
   "id": "02504e8c-84d4-46ba-9e21-afd5c810f55a",
   "metadata": {},
   "outputs": [
    {
     "data": {
      "text/html": [
       "<div>\n",
       "<style scoped>\n",
       "    .dataframe tbody tr th:only-of-type {\n",
       "        vertical-align: middle;\n",
       "    }\n",
       "\n",
       "    .dataframe tbody tr th {\n",
       "        vertical-align: top;\n",
       "    }\n",
       "\n",
       "    .dataframe thead th {\n",
       "        text-align: right;\n",
       "    }\n",
       "</style>\n",
       "<table border=\"1\" class=\"dataframe\">\n",
       "  <thead>\n",
       "    <tr style=\"text-align: right;\">\n",
       "      <th></th>\n",
       "      <th>mean</th>\n",
       "      <th>median</th>\n",
       "      <th>stdev</th>\n",
       "    </tr>\n",
       "  </thead>\n",
       "  <tbody>\n",
       "    <tr>\n",
       "      <th>onnx_optimized_quantized_avx512</th>\n",
       "      <td>5.548020</td>\n",
       "      <td>5.538344</td>\n",
       "      <td>0.189486</td>\n",
       "    </tr>\n",
       "    <tr>\n",
       "      <th>onnx_optimized_quantized_best_options</th>\n",
       "      <td>6.212239</td>\n",
       "      <td>5.547643</td>\n",
       "      <td>1.093575</td>\n",
       "    </tr>\n",
       "    <tr>\n",
       "      <th>onnx_optimized_quantized_avx2</th>\n",
       "      <td>5.583106</td>\n",
       "      <td>5.554914</td>\n",
       "      <td>0.204996</td>\n",
       "    </tr>\n",
       "    <tr>\n",
       "      <th>onnx_optimized_quantized_avx512_vnni</th>\n",
       "      <td>8.118718</td>\n",
       "      <td>7.980824</td>\n",
       "      <td>1.008285</td>\n",
       "    </tr>\n",
       "    <tr>\n",
       "      <th>onnx_optimized_1</th>\n",
       "      <td>12.283594</td>\n",
       "      <td>11.813402</td>\n",
       "      <td>1.589393</td>\n",
       "    </tr>\n",
       "    <tr>\n",
       "      <th>onnx_optimized_2</th>\n",
       "      <td>11.905151</td>\n",
       "      <td>11.831641</td>\n",
       "      <td>0.348794</td>\n",
       "    </tr>\n",
       "    <tr>\n",
       "      <th>onnx_optimized_99</th>\n",
       "      <td>12.255098</td>\n",
       "      <td>11.920452</td>\n",
       "      <td>1.440692</td>\n",
       "    </tr>\n",
       "    <tr>\n",
       "      <th>onnx_inference_session</th>\n",
       "      <td>13.870740</td>\n",
       "      <td>13.345718</td>\n",
       "      <td>1.182607</td>\n",
       "    </tr>\n",
       "    <tr>\n",
       "      <th>onnx_pipeline</th>\n",
       "      <td>22.047639</td>\n",
       "      <td>22.123694</td>\n",
       "      <td>1.516272</td>\n",
       "    </tr>\n",
       "    <tr>\n",
       "      <th>simple_pipeline</th>\n",
       "      <td>44.702987</td>\n",
       "      <td>44.762850</td>\n",
       "      <td>1.992070</td>\n",
       "    </tr>\n",
       "    <tr>\n",
       "      <th>preprocess_inference_postprocess</th>\n",
       "      <td>46.659456</td>\n",
       "      <td>46.164274</td>\n",
       "      <td>2.562030</td>\n",
       "    </tr>\n",
       "    <tr>\n",
       "      <th>onnx_float16</th>\n",
       "      <td>119.785748</td>\n",
       "      <td>119.285345</td>\n",
       "      <td>3.744365</td>\n",
       "    </tr>\n",
       "  </tbody>\n",
       "</table>\n",
       "</div>"
      ],
      "text/plain": [
       "                                             mean      median     stdev\n",
       "onnx_optimized_quantized_avx512          5.548020    5.538344  0.189486\n",
       "onnx_optimized_quantized_best_options    6.212239    5.547643  1.093575\n",
       "onnx_optimized_quantized_avx2            5.583106    5.554914  0.204996\n",
       "onnx_optimized_quantized_avx512_vnni     8.118718    7.980824  1.008285\n",
       "onnx_optimized_1                        12.283594   11.813402  1.589393\n",
       "onnx_optimized_2                        11.905151   11.831641  0.348794\n",
       "onnx_optimized_99                       12.255098   11.920452  1.440692\n",
       "onnx_inference_session                  13.870740   13.345718  1.182607\n",
       "onnx_pipeline                           22.047639   22.123694  1.516272\n",
       "simple_pipeline                         44.702987   44.762850  1.992070\n",
       "preprocess_inference_postprocess        46.659456   46.164274  2.562030\n",
       "onnx_float16                           119.785748  119.285345  3.744365"
      ]
     },
     "execution_count": 87,
     "metadata": {},
     "output_type": "execute_result"
    }
   ],
   "source": [
    "timer.summary()"
   ]
  },
  {
   "cell_type": "code",
   "execution_count": 88,
   "id": "601fc1ca-200d-4506-a0df-0091cd25f20e",
   "metadata": {},
   "outputs": [
    {
     "name": "stdout",
     "output_type": "stream",
     "text": [
      "Times: 45ms vs. 6ms\n",
      "That's factor 8!\n"
     ]
    }
   ],
   "source": [
    "print(f\"Times: {round(timer.baseline['median'])}ms vs. {round(timer.best_time['median'])}ms\")\n",
    "print(f\"That's factor {round(timer.baseline['median'] / timer.best_time['median'])}!\")"
   ]
  },
  {
   "cell_type": "markdown",
   "id": "ed3aed57-5a73-405c-8523-e6806a7c71fa",
   "metadata": {},
   "source": [
    "## What About Accuracy?\n",
    "\n",
    "We completely ignored the quality of the optimized and quantized model's predictions. In theory, quantization for example might lead to a loss in accuracy.\n"
   ]
  },
  {
   "cell_type": "code",
   "execution_count": 89,
   "id": "1d674fdb-ab70-43ec-b18b-4f0c9e1f5573",
   "metadata": {},
   "outputs": [],
   "source": [
    "import random\n",
    "\n",
    "from datasets import load_dataset"
   ]
  },
  {
   "cell_type": "code",
   "execution_count": 90,
   "id": "db7b5856-a9db-457c-b3c8-97a215a26065",
   "metadata": {},
   "outputs": [],
   "source": [
    "dataset = load_dataset(\"papluca/language-identification\")\n",
    "\n",
    "test_set = random.sample(list(dataset[\"test\"]), 1000)"
   ]
  },
  {
   "cell_type": "code",
   "execution_count": 91,
   "id": "9f5b519f-cb6d-4a55-8f5f-0d0e82c12c6d",
   "metadata": {},
   "outputs": [],
   "source": [
    "pipeline = transformers.pipeline(\"text-classification\", model=model_name, tokenizer=model_name)\n",
    "\n",
    "\n",
    "def slow(text: str) -> str:\n",
    "    # fire!\n",
    "    prediction = pipeline(text)\n",
    "\n",
    "    # return only the label as string\n",
    "    return prediction[0][\"label\"]"
   ]
  },
  {
   "cell_type": "code",
   "execution_count": 92,
   "id": "5594a9aa-e298-4140-8b4a-4c760b51c576",
   "metadata": {},
   "outputs": [],
   "source": [
    "session = InferenceSession(\"onnx/model_optimized_quantized.onnx\")\n",
    "\n",
    "\n",
    "def fast(text: str) -> str:\n",
    "    # tokenize text\n",
    "    inputs = preprocess(text)\n",
    "\n",
    "    # fire!\n",
    "    outputs = inference(inputs)\n",
    "\n",
    "    # most likely label\n",
    "    return postprocess(outputs)"
   ]
  },
  {
   "cell_type": "code",
   "execution_count": 93,
   "id": "5e403528-ef4a-49b0-834a-93a87cf422a4",
   "metadata": {},
   "outputs": [
    {
     "name": "stderr",
     "output_type": "stream",
     "text": [
      "Slow: 100%|██████████████████████████████████████████████████████████████████████████████████████████████████████████████████████████████████████████████████| 1000/1000 [00:48<00:00, 20.41it/s]\n",
      "Fast: 100%|█████████████████████████████████████████████████████████████████████████████████████████████████████████████████████████████████████████████████| 1000/1000 [00:08<00:00, 115.07it/s]\n"
     ]
    }
   ],
   "source": [
    "slow_predictions = [slow(record[\"text\"]) for record in tqdm(test_set, desc=\"Slow\")]\n",
    "fast_predictions = [fast(record[\"text\"]) for record in tqdm(test_set, desc=\"Fast\")]"
   ]
  },
  {
   "cell_type": "code",
   "execution_count": 94,
   "id": "ad5ef0dd-c16b-4697-9b9b-bec11c16d4ed",
   "metadata": {},
   "outputs": [],
   "source": [
    "from sklearn.metrics import classification_report"
   ]
  },
  {
   "cell_type": "code",
   "execution_count": 95,
   "id": "68de6ba2-f722-48d6-8062-9f7532bb813f",
   "metadata": {},
   "outputs": [],
   "source": [
    "report_slow = classification_report(\n",
    "    [record[\"labels\"] for record in test_set], slow_predictions, output_dict=True\n",
    ")\n",
    "report_fast = classification_report(\n",
    "    [record[\"labels\"] for record in test_set], fast_predictions, output_dict=True\n",
    ")"
   ]
  },
  {
   "cell_type": "code",
   "execution_count": 96,
   "id": "10d40dcd-4556-4b68-9c4c-437e9c60ddb6",
   "metadata": {},
   "outputs": [
    {
     "name": "stdout",
     "output_type": "stream",
     "text": [
      "ar\n",
      "slow: {'precision': 1.0, 'recall': 1.0, 'f1-score': 1.0, 'support': 52.0}\n",
      "fast: {'precision': 1.0, 'recall': 1.0, 'f1-score': 1.0, 'support': 52.0}\n",
      "\n",
      "\n",
      "bg\n",
      "slow: {'precision': 1.0, 'recall': 1.0, 'f1-score': 1.0, 'support': 52.0}\n",
      "fast: {'precision': 1.0, 'recall': 1.0, 'f1-score': 1.0, 'support': 52.0}\n",
      "\n",
      "\n",
      "de\n",
      "slow: {'precision': 1.0, 'recall': 1.0, 'f1-score': 1.0, 'support': 60.0}\n",
      "fast: {'precision': 1.0, 'recall': 1.0, 'f1-score': 1.0, 'support': 60.0}\n",
      "\n",
      "\n",
      "el\n",
      "slow: {'precision': 1.0, 'recall': 1.0, 'f1-score': 1.0, 'support': 54.0}\n",
      "fast: {'precision': 1.0, 'recall': 1.0, 'f1-score': 1.0, 'support': 54.0}\n",
      "\n",
      "\n",
      "en\n",
      "slow: {'precision': 1.0, 'recall': 1.0, 'f1-score': 1.0, 'support': 43.0}\n",
      "fast: {'precision': 1.0, 'recall': 1.0, 'f1-score': 1.0, 'support': 43.0}\n",
      "\n",
      "\n",
      "es\n",
      "slow: {'precision': 1.0, 'recall': 1.0, 'f1-score': 1.0, 'support': 43.0}\n",
      "fast: {'precision': 1.0, 'recall': 1.0, 'f1-score': 1.0, 'support': 43.0}\n",
      "\n",
      "\n",
      "fr\n",
      "slow: {'precision': 1.0, 'recall': 1.0, 'f1-score': 1.0, 'support': 48.0}\n",
      "fast: {'precision': 1.0, 'recall': 1.0, 'f1-score': 1.0, 'support': 48.0}\n",
      "\n",
      "\n",
      "hi\n",
      "slow: {'precision': 1.0, 'recall': 1.0, 'f1-score': 1.0, 'support': 60.0}\n",
      "fast: {'precision': 1.0, 'recall': 1.0, 'f1-score': 1.0, 'support': 60.0}\n",
      "\n",
      "\n",
      "it\n",
      "slow: {'precision': 1.0, 'recall': 1.0, 'f1-score': 1.0, 'support': 52.0}\n",
      "fast: {'precision': 1.0, 'recall': 1.0, 'f1-score': 1.0, 'support': 52.0}\n",
      "\n",
      "\n",
      "ja\n",
      "slow: {'precision': 1.0, 'recall': 1.0, 'f1-score': 1.0, 'support': 49.0}\n",
      "fast: {'precision': 1.0, 'recall': 1.0, 'f1-score': 1.0, 'support': 49.0}\n",
      "\n",
      "\n",
      "nl\n",
      "slow: {'precision': 1.0, 'recall': 1.0, 'f1-score': 1.0, 'support': 50.0}\n",
      "fast: {'precision': 1.0, 'recall': 1.0, 'f1-score': 1.0, 'support': 50.0}\n",
      "\n",
      "\n",
      "pl\n",
      "slow: {'precision': 1.0, 'recall': 1.0, 'f1-score': 1.0, 'support': 42.0}\n",
      "fast: {'precision': 1.0, 'recall': 1.0, 'f1-score': 1.0, 'support': 42.0}\n",
      "\n",
      "\n",
      "pt\n",
      "slow: {'precision': 1.0, 'recall': 1.0, 'f1-score': 1.0, 'support': 52.0}\n",
      "fast: {'precision': 1.0, 'recall': 1.0, 'f1-score': 1.0, 'support': 52.0}\n",
      "\n",
      "\n",
      "ru\n",
      "slow: {'precision': 1.0, 'recall': 1.0, 'f1-score': 1.0, 'support': 55.0}\n",
      "fast: {'precision': 1.0, 'recall': 1.0, 'f1-score': 1.0, 'support': 55.0}\n",
      "\n",
      "\n",
      "sw\n",
      "slow: {'precision': 1.0, 'recall': 1.0, 'f1-score': 1.0, 'support': 45.0}\n",
      "fast: {'precision': 1.0, 'recall': 1.0, 'f1-score': 1.0, 'support': 45.0}\n",
      "\n",
      "\n",
      "th\n",
      "slow: {'precision': 1.0, 'recall': 1.0, 'f1-score': 1.0, 'support': 43.0}\n",
      "fast: {'precision': 1.0, 'recall': 1.0, 'f1-score': 1.0, 'support': 43.0}\n",
      "\n",
      "\n",
      "tr\n",
      "slow: {'precision': 1.0, 'recall': 1.0, 'f1-score': 1.0, 'support': 32.0}\n",
      "fast: {'precision': 1.0, 'recall': 1.0, 'f1-score': 1.0, 'support': 32.0}\n",
      "\n",
      "\n",
      "ur\n",
      "slow: {'precision': 1.0, 'recall': 1.0, 'f1-score': 1.0, 'support': 73.0}\n",
      "fast: {'precision': 1.0, 'recall': 1.0, 'f1-score': 1.0, 'support': 73.0}\n",
      "\n",
      "\n",
      "vi\n",
      "slow: {'precision': 1.0, 'recall': 1.0, 'f1-score': 1.0, 'support': 49.0}\n",
      "fast: {'precision': 1.0, 'recall': 1.0, 'f1-score': 1.0, 'support': 49.0}\n",
      "\n",
      "\n",
      "zh\n",
      "slow: {'precision': 1.0, 'recall': 1.0, 'f1-score': 1.0, 'support': 46.0}\n",
      "fast: {'precision': 1.0, 'recall': 1.0, 'f1-score': 1.0, 'support': 46.0}\n",
      "\n",
      "\n",
      "macro avg\n",
      "slow: {'precision': 1.0, 'recall': 1.0, 'f1-score': 1.0, 'support': 1000.0}\n",
      "fast: {'precision': 1.0, 'recall': 1.0, 'f1-score': 1.0, 'support': 1000.0}\n",
      "\n",
      "\n",
      "weighted avg\n",
      "slow: {'precision': 1.0, 'recall': 1.0, 'f1-score': 1.0, 'support': 1000.0}\n",
      "fast: {'precision': 1.0, 'recall': 1.0, 'f1-score': 1.0, 'support': 1000.0}\n",
      "\n",
      "\n"
     ]
    }
   ],
   "source": [
    "for key in report_slow:\n",
    "    if isinstance(report_slow[key], dict):\n",
    "        print(key)\n",
    "        print(\"slow:\", {k: round(v, 1) for k, v in report_slow[key].items()})\n",
    "        print(\"fast:\", {k: round(v, 1) for k, v in report_fast[key].items()})\n",
    "        print(\"\\n\")"
   ]
  },
  {
   "cell_type": "markdown",
   "id": "2b52d812-74eb-46b4-921d-a800bddd2d48",
   "metadata": {},
   "source": [
    "# Conclusion\n",
    "\n",
    "Pros:\n",
    "\n",
    "- Obviously speed\n",
    "- User experience\n",
    "- Lightweight dependency\n",
    "-\n",
    "\n",
    "Cons:\n",
    "\n",
    "- Hardware dependent optimizations (optional though)\n",
    "- Accuracy loss (minimal though)\n"
   ]
  }
 ],
 "metadata": {
  "kernelspec": {
   "display_name": "Python 3 (ipykernel)",
   "language": "python",
   "name": "python3"
  },
  "language_info": {
   "codemirror_mode": {
    "name": "ipython",
    "version": 3
   },
   "file_extension": ".py",
   "mimetype": "text/x-python",
   "name": "python",
   "nbconvert_exporter": "python",
   "pygments_lexer": "ipython3",
   "version": "3.12.7"
  }
 },
 "nbformat": 4,
 "nbformat_minor": 5
}
